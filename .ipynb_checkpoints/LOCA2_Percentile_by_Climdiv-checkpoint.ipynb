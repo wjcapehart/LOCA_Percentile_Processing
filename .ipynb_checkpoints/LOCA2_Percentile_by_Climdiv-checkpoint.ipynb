{
 "cells": [
  {
   "cell_type": "markdown",
   "id": "6e64c91c-147b-4245-8ad7-ee1074914316",
   "metadata": {},
   "source": [
    "# Aggregate by Climate Zones"
   ]
  },
  {
   "cell_type": "code",
   "execution_count": null,
   "id": "adce116c-1594-4535-8938-5d5ec08ec745",
   "metadata": {},
   "outputs": [],
   "source": [
    "import numpy as np\n",
    "import matplotlib as plt\n",
    "import xarray as xr\n",
    "import pandas as pd"
   ]
  }
 ],
 "metadata": {
  "kernelspec": {
   "display_name": "Python 3 (ipykernel)",
   "language": "python",
   "name": "python3"
  },
  "language_info": {
   "codemirror_mode": {
    "name": "ipython",
    "version": 3
   },
   "file_extension": ".py",
   "mimetype": "text/x-python",
   "name": "python",
   "nbconvert_exporter": "python",
   "pygments_lexer": "ipython3",
   "version": "3.10.12"
  }
 },
 "nbformat": 4,
 "nbformat_minor": 5
}
