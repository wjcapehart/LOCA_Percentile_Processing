{
 "cells": [
  {
   "cell_type": "markdown",
   "id": "92b36984-b215-4c64-8299-fc7abac5cd9a",
   "metadata": {},
   "source": [
    "## Inventory for LOCA2 Regions"
   ]
  },
  {
   "cell_type": "code",
   "execution_count": null,
   "id": "2fc84a1f-0f1b-408a-8228-1c3d2a6cc57c",
   "metadata": {},
   "outputs": [],
   "source": [
    "import numpy              as np\n",
    "import cartopy.crs        as ccrs\n",
    "import cartopy.feature    as cfeature\n",
    "import matplotlib.patches as mpatches\n",
    "import matplotlib.pyplot  as plt\n",
    "import pandas             as pd\n",
    "import shapely            as shapely\n",
    "import os                 as os\n",
    "import pyproj             as proj\n",
    "\n",
    "import geopandas          as gp\n",
    "\n",
    "from   siphon.catalog import TDSCatalog\n",
    "\n",
    "\n",
    "import socket\n",
    "print(socket.gethostname())\n",
    "\n",
    "myhostname = socket.gethostname()"
   ]
  },
  {
   "cell_type": "code",
   "execution_count": null,
   "id": "844d08fe-79f8-4291-a98c-cffd96256928",
   "metadata": {},
   "outputs": [],
   "source": [
    "####################################################\n",
    "####################################################\n",
    "####################################################\n",
    "#\n",
    "# Mines Colors and Fonts\n",
    "#\n",
    "\n",
    "Mines_Blue = \"#002554\"\n",
    "\n",
    "\n",
    "plt.rcParams.update({'text.color'      : Mines_Blue,\n",
    "                     'axes.labelcolor' : Mines_Blue,\n",
    "\t\t\t\t\t 'axes.edgecolor'  : Mines_Blue,\n",
    "\t\t\t\t\t 'xtick.color'     : Mines_Blue,\n",
    "\t\t\t\t\t 'ytick.color'     : Mines_Blue,\n",
    "                     'font.family'     : \"Open Sans\"})\n",
    "\n",
    "\n",
    "#\n",
    "####################################################\n",
    "####################################################\n",
    "####################################################"
   ]
  },
  {
   "cell_type": "code",
   "execution_count": null,
   "id": "c86a285e-b4bf-4225-871d-1842b09d1d2f",
   "metadata": {},
   "outputs": [],
   "source": []
  },
  {
   "cell_type": "code",
   "execution_count": null,
   "id": "32621dbf-edf6-4327-9126-a4141864d9d2",
   "metadata": {},
   "outputs": [],
   "source": [
    "####################################################\n",
    "#\n",
    "# Kyrill vs Mandrenke\n",
    "#\n",
    "\n",
    "if (\"mandrenke\" in socket.gethostname()): # Mandrenke\n",
    "    target_dir  = \"/Users/wjc/GitHub/LOCA_Percentile_Processing/\"\n",
    "    display_img = True\n",
    "else:  # Kyrill\n",
    "    target_dir = \"/var/www/html/wjc/eduresources/\"\n",
    "    display_img = False\n",
    "\n",
    "print(target_dir)\n",
    "\n",
    "#\n",
    "####################################################"
   ]
  },
  {
   "cell_type": "code",
   "execution_count": null,
   "id": "1d8cd162-60a5-439d-8b9e-289888435a5d",
   "metadata": {},
   "outputs": [],
   "source": []
  },
  {
   "cell_type": "code",
   "execution_count": null,
   "id": "206b6254-9652-41a5-b1ca-c53c7375ff7a",
   "metadata": {},
   "outputs": [],
   "source": []
  },
  {
   "cell_type": "code",
   "execution_count": null,
   "id": "4c697794-4cc0-4ac2-b343-038557acc894",
   "metadata": {},
   "outputs": [],
   "source": [
    "dir_hucs = \"http://kyrill.ias.sdsmt.edu:8080/thredds/catalog/LOCA2/Specific_Regional_Aggregate_Sets/USGS_HUC08_Basins/R_Annual_Files/catalog.xml\"\n",
    "dir_cdiv = \"http://kyrill.ias.sdsmt.edu:8080/thredds/catalog/LOCA2/Specific_Regional_Aggregate_Sets/NCEI_Climate_Divisions/R_Annual_Files/catalog.xml\"\n",
    "\n",
    "dir_hucs_csv = \"http://kyrill.ias.sdsmt.edu/wjc/eduresources/USGS_HUC08_LUT.csv\"\n",
    "dir_cdiv_csv = \"http://kyrill.ias.sdsmt.edu/wjc/eduresources/NCEI_nClimDiv_LUT.csv\"\n",
    "\n",
    "pre_hucs = \"LOCA2_V1_HUC08_ANNUAL_\"\n",
    "pre_cdiv = \"LOCA2_V1_nCLIMDIV_ANNUAL_\"\n",
    "\n",
    "cat_hucs = TDSCatalog(dir_hucs).datasets\n",
    "cat_cdiv = TDSCatalog(dir_cdiv).datasets\n",
    "\n",
    "available_hucs = []\n",
    "for file_huc in cat_hucs:\n",
    "    available_hucs.append(file_huc.replace(pre_hucs, \"\").replace(\".RData\", \"\"))\n",
    "    \n",
    "available_cdiv = []\n",
    "for file_cdiv in cat_cdiv:\n",
    "    available_cdiv.append(file_cdiv.replace(pre_cdiv, \"\").replace(\".RData\", \"\"))\n",
    "\n",
    "table_hucs = pd.read_csv(filepath_or_buffer = dir_hucs_csv)\n",
    "table_cdiv = pd.read_csv(filepath_or_buffer = dir_cdiv_csv)\n",
    "\n",
    "available_hucs = np.array(available_hucs, dtype=np.int32)\n",
    "available_cdiv = np.array(available_cdiv, dtype=np.int32)\n",
    "\n"
   ]
  },
  {
   "cell_type": "code",
   "execution_count": null,
   "id": "a6a127f2-af46-4423-854a-a184753fa5be",
   "metadata": {},
   "outputs": [],
   "source": [
    "table_huc = table_hucs[table_hucs[\"huc08\"].isin(available_hucs)]\n",
    "\n",
    "\n",
    "table_huc = table_huc[['huc08',\n",
    "                         'huc08_name', \n",
    "                         'huc06_name', \n",
    "                         'huc04_name', \n",
    "                         'huc02_name']].rename(columns = {\"huc08\"     : \"HUC-08\",\n",
    "                                                          \"huc08_name\": \"BASIN NAME\",\n",
    "                                                          \"huc06_name\": \"HUC-06 BASIN\",\n",
    "                                                          \"huc04_name\": \"HUC-04 BASIN\",\n",
    "                                                          \"huc02_name\": \"HUC-02 REGION\"})\n",
    "\n",
    "table_huc[\"HUC-08\"] = [str(x).zfill(8)   for x in table_huc[\"HUC-08\"].values]\n",
    "table_huc = table_huc.sort_values(\"HUC-08\")\n",
    "table_huc.to_csv(path_or_buf = target_dir + \"HUC_table_avail.csv\", index=False)\n",
    "print(target_dir + \"HUC_table_avail.csv\")\n",
    "\n",
    "\n",
    "if (display_img) :\n",
    "    display(table_huc)\n",
    "\n",
    "os.system('csvtotable --caption \"Available HUC-08 Files\" --overwrite ' +  target_dir + \"HUC_table_avail.csv \" + target_dir + \"HUC_table_avail.html\")\n",
    "\n"
   ]
  },
  {
   "cell_type": "code",
   "execution_count": null,
   "id": "51b2f230-3e85-4b80-ac7e-100b03e6a27b",
   "metadata": {},
   "outputs": [],
   "source": [
    "table_div = table_cdiv[table_cdiv[\"climdiv\"].isin(available_cdiv)][[\"climdiv\",\n",
    "                                                                   \"climdiv_name\",\n",
    "                                                                   \"climdiv_state_name\"]]\n",
    "\n",
    "table_div[\"climdiv\"] = [str(x).zfill(4) for x in table_div[\"climdiv\"].values]\n",
    "table_div  = table_div.rename(columns = {\"climdiv\":\"DIVISION\",\n",
    "                           \"climdiv_name\":\"NAME\",\n",
    "                           \"climdiv_state_name\":\"STATE\"}).sort_values(\"DIVISION\")\n",
    "\n",
    "table_div.to_csv(path_or_buf = target_dir + \"ClimDiv_table_avail.csv\", index=False)\n",
    "print(target_dir + \"ClimDiv_table_avail.csv\")\n",
    "\n",
    "if (display_img) :\n",
    "    display(table_div)\n",
    "\n",
    "os.system('csvtotable --caption \"Available ClimDiv Files\" --overwrite ' +  target_dir + \"ClimDiv_table_avail.csv \" + target_dir + \"ClimDiv_table_avail.html\")"
   ]
  },
  {
   "cell_type": "code",
   "execution_count": null,
   "id": "e8e66d2f-7b3d-405b-a322-6aee3dbd4da3",
   "metadata": {},
   "outputs": [],
   "source": []
  },
  {
   "cell_type": "code",
   "execution_count": null,
   "id": "c9952c1e-2714-47b1-9895-d52683d37776",
   "metadata": {},
   "outputs": [],
   "source": [
    "shp_hucs = gp.read_file(\"GeoJSON_Files/CONUS_USGS_HUC-08.geojson\")\n",
    "shp_cdiv = gp.read_file(\"GeoJSON_Files/CONUS_NCEI_Climate_Divisions.geojson\")"
   ]
  },
  {
   "cell_type": "code",
   "execution_count": null,
   "id": "0576a061-6837-4314-a9f6-67029b99282d",
   "metadata": {},
   "outputs": [],
   "source": [
    "print(\"  HUC08:RAW:\",len(shp_hucs), len(shp_hucs.get_coordinates()))\n",
    "print(\"CLIMDIV:RAW:\",len(shp_cdiv), len(shp_cdiv.get_coordinates()))"
   ]
  },
  {
   "cell_type": "code",
   "execution_count": null,
   "id": "60799064-bf5e-4e27-9f5e-cc62dc420287",
   "metadata": {},
   "outputs": [],
   "source": [
    "shp_cdiv = shp_cdiv[shp_cdiv[\"CLIMDIV\"].isin(available_cdiv)]\n",
    "shp_hucs = shp_hucs[shp_hucs[  \"huc8\" ].isin(available_hucs)]\n",
    "\n",
    "\n",
    "\n",
    "if (display_img) :\n",
    "    display(shp_cdiv)\n"
   ]
  },
  {
   "cell_type": "code",
   "execution_count": null,
   "id": "137d27be-e201-423c-8551-a04a86ff623e",
   "metadata": {},
   "outputs": [],
   "source": []
  },
  {
   "cell_type": "code",
   "execution_count": null,
   "id": "3fe0836d-9578-4b94-b0d5-03182cd390c6",
   "metadata": {},
   "outputs": [],
   "source": []
  },
  {
   "cell_type": "code",
   "execution_count": null,
   "id": "be1884fc-1e5d-44a7-b53c-6f4c872559d1",
   "metadata": {},
   "outputs": [],
   "source": []
  },
  {
   "cell_type": "code",
   "execution_count": null,
   "id": "023593b0-4ad3-433d-aeb7-6afed1972522",
   "metadata": {},
   "outputs": [],
   "source": []
  },
  {
   "cell_type": "code",
   "execution_count": null,
   "id": "cb714473-c5db-4816-8e57-4c4d8363bb3e",
   "metadata": {},
   "outputs": [],
   "source": [
    "shp_cdiv = shp_cdiv.assign(CLIMDIV=1) \n",
    "shp_hucs = shp_hucs.assign(   huc8=1) \n",
    "print(\"  HUC08:CUT:\",len(shp_hucs), len(shp_hucs.get_coordinates()))\n",
    "print(\"CLIMDIV:CUT:\",len(shp_cdiv), len(shp_cdiv.get_coordinates()))"
   ]
  },
  {
   "cell_type": "code",
   "execution_count": null,
   "id": "ba07121b-0eeb-46f8-b6e8-85a4dc0e9e8d",
   "metadata": {},
   "outputs": [],
   "source": []
  },
  {
   "cell_type": "code",
   "execution_count": null,
   "id": "9cbbd995-2a5a-497f-a8f7-bebba1a5ece2",
   "metadata": {},
   "outputs": [],
   "source": [
    "shp_cdivD = shp_cdiv.dissolve(by = \"CLIMDIV\")\n",
    "shp_hucsD = shp_hucs.dissolve(by =    \"huc8\")"
   ]
  },
  {
   "cell_type": "code",
   "execution_count": null,
   "id": "7336b2a3-016d-458b-8391-2c17b4570e39",
   "metadata": {},
   "outputs": [],
   "source": [
    "print(\"  HUC08:DIS:\",len(shp_hucsD), len(shp_hucs.get_coordinates()))\n",
    "print(\"CLIMDIV:DIS:\",len(shp_cdivD), len(shp_cdiv.get_coordinates()))"
   ]
  },
  {
   "cell_type": "code",
   "execution_count": null,
   "id": "119203a9-3680-4aaf-8962-5b8da382efb1",
   "metadata": {},
   "outputs": [],
   "source": [
    "ccrs_proj = ccrs.AlbersEqualArea(central_longitude  =   -96, \n",
    "                                 central_latitude   =  37.5, \n",
    "                                 false_easting      =   0.0, \n",
    "                                 false_northing     =   0.0, \n",
    "                                 standard_parallels = (29.5, 45.5))\n",
    "\n",
    "fig = plt.figure(figsize=[9,5], facecolor=\"white\")\n",
    "ax  = fig.add_subplot(1, 1, 1, \n",
    "                      projection = ccrs_proj)\n",
    "\n",
    "#fig.suptitle(\"CMIP6 LOCA-2 Available Regions\", color = Mines_Blue, fontsize= 'xx-large')\n",
    "#ax.set_title(\"USGS HUC-08 Basins\", color = Mines_Blue, fontsize= 'x-large')\n",
    "ax.set_extent([-119, -73, 22.5, 51])\n",
    "\n",
    "ax.add_feature(cfeature.COASTLINE, edgecolor = Mines_Blue)\n",
    "ax.add_feature(cfeature.LAKES,     facecolor = 'None')\n",
    "#ax.add_feature(cfeature.RIVERS,    edgecolor = Mines_Blue)\n",
    "ax.add_feature(cfeature.STATES,    edgecolor = Mines_Blue, linewidth=0.5)\n",
    "\n",
    "\n",
    "#ax.set_frame_on(False)\n",
    "\n",
    "\n",
    "\n",
    "shp_hucs.plot(ax        = ax,\n",
    "              aspect    = 'equal',\n",
    "              facecolor = \"Blue\",\n",
    "              edgecolor = 'white', \n",
    "              alpha     = 0.7,\n",
    "              transform = ccrs.PlateCarree(),\n",
    "              linewidth = .5)\n",
    "plt.tight_layout()\n",
    "plt.savefig(target_dir + \"./LOCA2_HUCs_Available_Regions_Map.png\")\n",
    "if (display_img) :\n",
    "    plt.show()"
   ]
  },
  {
   "cell_type": "code",
   "execution_count": null,
   "id": "528b7c42-b148-4045-bed5-e36f8a1e5f6e",
   "metadata": {},
   "outputs": [],
   "source": [
    "ccrs_proj = ccrs.AlbersEqualArea(central_longitude  =   -96, \n",
    "                                 central_latitude   =  37.5, \n",
    "                                 false_easting      =   0.0, \n",
    "                                 false_northing     =   0.0, \n",
    "                                 standard_parallels = (29.5, 45.5))\n",
    "\n",
    "fig = plt.figure(figsize=[9,5], facecolor=\"white\")\n",
    "ax  = fig.add_subplot(1, 1, 1, \n",
    "                      projection = ccrs_proj)\n",
    "\n",
    "#fig.suptitle(\"CMIP6 LOCA-2 Available Regions\", color = Mines_Blue, fontsize= 'xx-large')\n",
    "#ax.set_title(\"NCEI State Climate Divisions\", color = Mines_Blue, fontsize= 'x-large')\n",
    "ax.set_extent([-119, -73, 22.5, 51])\n",
    "\n",
    "ax.add_feature(cfeature.COASTLINE, edgecolor = Mines_Blue)\n",
    "ax.add_feature(cfeature.LAKES,     facecolor = 'None')\n",
    "#ax.add_feature(cfeature.RIVERS,    edgecolor = Mines_Blue)\n",
    "ax.add_feature(cfeature.STATES,    edgecolor = Mines_Blue, linewidth=0.5)\n",
    "\n",
    "\n",
    "#ax.set_frame_on(False)\n",
    "\n",
    "\n",
    "shp_cdiv.plot(ax        = ax,\n",
    "              aspect    = 'equal',\n",
    "              facecolor = \"red\",\n",
    "              edgecolor = 'white',\n",
    "              alpha     = 0.7,\n",
    "              transform = ccrs.PlateCarree(),\n",
    "              linewidth = .5)\n",
    "\n",
    "plt.tight_layout()\n",
    "plt.savefig(target_dir + \"./LOCA2_ClimDiv_Available_Regions_Map.png\")\n",
    "if (display_img) :\n",
    "    plt.show()"
   ]
  },
  {
   "cell_type": "code",
   "execution_count": null,
   "id": "a43b9a03-5374-407f-b241-d2b8f4f7ea3e",
   "metadata": {},
   "outputs": [],
   "source": [
    "ccrs_proj = ccrs.AlbersEqualArea(central_longitude  =   -96, \n",
    "                                 central_latitude   =  37.5, \n",
    "                                 false_easting      =   0.0, \n",
    "                                 false_northing     =   0.0, \n",
    "                                 standard_parallels = (29.5, 45.5))\n",
    "\n",
    "fig = plt.figure(figsize=[9,5], facecolor=\"white\")\n",
    "ax  = fig.add_subplot(1, 1, 1, \n",
    "                      projection = ccrs_proj)\n",
    "\n",
    "#fig.suptitle(\"CMIP6 LOCA-2 Available Regions\", color = Mines_Blue, fontsize= 'xx-large')\n",
    "#ax.set_title(\"NCEI State Climate Divisions\", color = Mines_Blue, fontsize= 'x-large')\n",
    "ax.set_extent([-119, -73, 22.5, 51])\n",
    "\n",
    "ax.add_feature(cfeature.COASTLINE, edgecolor = Mines_Blue)\n",
    "ax.add_feature(cfeature.LAKES,     facecolor = 'None')\n",
    "#ax.add_feature(cfeature.RIVERS,    edgecolor = Mines_Blue)\n",
    "ax.add_feature(cfeature.STATES,    edgecolor = Mines_Blue, linewidth=0.5)\n",
    "\n",
    "\n",
    "#ax.set_frame_on(False)\n",
    "\n",
    "\n",
    "shp_cdiv.plot(ax        = ax,\n",
    "              aspect    = 'equal',\n",
    "              facecolor = \"magenta\",\n",
    "              edgecolor = 'white', \n",
    "              alpha     = 0.5,\n",
    "              transform = ccrs.PlateCarree(),\n",
    "              linewidth = .5)\n",
    "\n",
    "shp_hucs.plot(ax        = ax,\n",
    "              aspect    = 'equal',\n",
    "              facecolor = \"cyan\",\n",
    "              edgecolor = 'white', \n",
    "              alpha     = 0.5,\n",
    "              transform = ccrs.PlateCarree(),\n",
    "              linewidth = .5)\n",
    "plt.tight_layout()\n",
    "plt.savefig(target_dir + \"./LOCA2_Available_Regions_Map.png\")\n",
    "if (display_img) :\n",
    "    plt.show()"
   ]
  },
  {
   "cell_type": "code",
   "execution_count": null,
   "id": "c28809ea-3c2b-4691-8d40-3a08508d0aee",
   "metadata": {},
   "outputs": [],
   "source": []
  },
  {
   "cell_type": "code",
   "execution_count": 1,
   "id": "d90432ea-2b4a-4352-b1c9-80354ba3577a",
   "metadata": {},
   "outputs": [
    {
     "data": {
      "text/plain": [
       "'ZMQInteractiveShell'"
      ]
     },
     "execution_count": 1,
     "metadata": {},
     "output_type": "execute_result"
    }
   ],
   "source": []
  },
  {
   "cell_type": "code",
   "execution_count": null,
   "id": "331025b0-e32a-4dac-a3ec-8c3ec22d21c1",
   "metadata": {},
   "outputs": [],
   "source": []
  }
 ],
 "metadata": {
  "kernelspec": {
   "display_name": "Python 3 (ipykernel)",
   "language": "python",
   "name": "python3"
  },
  "language_info": {
   "codemirror_mode": {
    "name": "ipython",
    "version": 3
   },
   "file_extension": ".py",
   "mimetype": "text/x-python",
   "name": "python",
   "nbconvert_exporter": "python",
   "pygments_lexer": "ipython3",
   "version": "3.12.3"
  }
 },
 "nbformat": 4,
 "nbformat_minor": 5
}
