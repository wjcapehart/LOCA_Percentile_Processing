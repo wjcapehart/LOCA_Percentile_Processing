{
 "cells": [
  {
   "cell_type": "code",
   "execution_count": null,
   "id": "e3f5072b-e943-49d9-b2c0-c8d6b20f70f7",
   "metadata": {},
   "outputs": [],
   "source": [
    "# Aggregate by Climate Zones"
   ]
  }
 ],
 "metadata": {
  "kernelspec": {
   "display_name": "Python 3 (ipykernel)",
   "language": "python",
   "name": "python3"
  },
  "language_info": {
   "codemirror_mode": {
    "name": "ipython",
    "version": 3
   },
   "file_extension": ".py",
   "mimetype": "text/x-python",
   "name": "python",
   "nbconvert_exporter": "python",
   "pygments_lexer": "ipython3",
   "version": "3.10.12"
  }
 },
 "nbformat": 4,
 "nbformat_minor": 5
}
