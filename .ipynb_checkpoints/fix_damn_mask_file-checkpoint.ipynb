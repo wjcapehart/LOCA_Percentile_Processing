{
 "cells": [
  {
   "cell_type": "code",
   "execution_count": 1,
   "id": "06b515d8-0aa9-49d2-81c3-073f76b43791",
   "metadata": {},
   "outputs": [],
   "source": [
    "import xarray as xr\n",
    "import pandas as pd\n",
    "import matplotlib.pyplot as plt\n",
    "import cf_xarray as cfx\n",
    "import cf_pandas as cpd"
   ]
  },
  {
   "cell_type": "code",
   "execution_count": 2,
   "id": "a4ca5191-f620-46ce-8c2e-9c751fc40234",
   "metadata": {},
   "outputs": [
    {
     "ename": "ValueError",
     "evalue": "These variables cannot be found in this dataset: ['huc08_areasqkm', 'climdiv_cd_new', 'climdiv_state_fips', 'lat_2', 'climdiv_fips', 'lat_2_bnds', 'climdiv_state_2digit', 'climdiv_cd_2digit']",
     "output_type": "error",
     "traceback": [
      "\u001b[0;31m---------------------------------------------------------------------------\u001b[0m",
      "\u001b[0;31mValueError\u001b[0m                                Traceback (most recent call last)",
      "\u001b[0;32m/var/folders/0c/8xbkg06s6cz0yy2505h06nlm00017d/T/ipykernel_47775/3577845596.py\u001b[0m in \u001b[0;36m?\u001b[0;34m()\u001b[0m\n\u001b[1;32m      1\u001b[0m \u001b[0mfilename\u001b[0m \u001b[0;34m=\u001b[0m \u001b[0;34m\"LOCA2_MASKS.nc\"\u001b[0m\u001b[0;34m\u001b[0m\u001b[0;34m\u001b[0m\u001b[0m\n\u001b[1;32m      2\u001b[0m \u001b[0;34m\u001b[0m\u001b[0m\n\u001b[1;32m      3\u001b[0m \u001b[0mxf\u001b[0m \u001b[0;34m=\u001b[0m \u001b[0mxr\u001b[0m\u001b[0;34m.\u001b[0m\u001b[0mopen_dataset\u001b[0m\u001b[0;34m(\u001b[0m\u001b[0mfilename_or_obj\u001b[0m \u001b[0;34m=\u001b[0m \u001b[0mfilename\u001b[0m\u001b[0;34m)\u001b[0m\u001b[0;34m\u001b[0m\u001b[0;34m\u001b[0m\u001b[0m\n\u001b[0;32m----> 4\u001b[0;31m xf = xf.drop_vars([\"lat_2_bnds\",\n\u001b[0m\u001b[1;32m      5\u001b[0m                    \u001b[0;34m\"lat_2\"\u001b[0m\u001b[0;34m,\u001b[0m\u001b[0;34m\u001b[0m\u001b[0;34m\u001b[0m\u001b[0m\n\u001b[1;32m      6\u001b[0m                    \u001b[0;34m\"huc08_areasqkm\"\u001b[0m\u001b[0;34m,\u001b[0m\u001b[0;34m\u001b[0m\u001b[0;34m\u001b[0m\u001b[0m\n\u001b[1;32m      7\u001b[0m                    \u001b[0;34m\"climdiv_fips\"\u001b[0m\u001b[0;34m,\u001b[0m\u001b[0;34m\u001b[0m\u001b[0;34m\u001b[0m\u001b[0m\n",
      "\u001b[0;32m/opt/miniconda3/lib/python3.12/site-packages/xarray/core/dataset.py\u001b[0m in \u001b[0;36m?\u001b[0;34m(self, names, errors)\u001b[0m\n\u001b[1;32m   5944\u001b[0m             \u001b[0mnames_set\u001b[0m \u001b[0;34m=\u001b[0m \u001b[0;34m{\u001b[0m\u001b[0mnames\u001b[0m\u001b[0;34m}\u001b[0m\u001b[0;34m\u001b[0m\u001b[0;34m\u001b[0m\u001b[0m\n\u001b[1;32m   5945\u001b[0m         \u001b[0;32melse\u001b[0m\u001b[0;34m:\u001b[0m\u001b[0;34m\u001b[0m\u001b[0;34m\u001b[0m\u001b[0m\n\u001b[1;32m   5946\u001b[0m             \u001b[0mnames_set\u001b[0m \u001b[0;34m=\u001b[0m \u001b[0mset\u001b[0m\u001b[0;34m(\u001b[0m\u001b[0mnames\u001b[0m\u001b[0;34m)\u001b[0m\u001b[0;34m\u001b[0m\u001b[0;34m\u001b[0m\u001b[0m\n\u001b[1;32m   5947\u001b[0m         \u001b[0;32mif\u001b[0m \u001b[0merrors\u001b[0m \u001b[0;34m==\u001b[0m \u001b[0;34m\"raise\"\u001b[0m\u001b[0;34m:\u001b[0m\u001b[0;34m\u001b[0m\u001b[0;34m\u001b[0m\u001b[0m\n\u001b[0;32m-> 5948\u001b[0;31m             \u001b[0mself\u001b[0m\u001b[0;34m.\u001b[0m\u001b[0m_assert_all_in_dataset\u001b[0m\u001b[0;34m(\u001b[0m\u001b[0mnames_set\u001b[0m\u001b[0;34m)\u001b[0m\u001b[0;34m\u001b[0m\u001b[0;34m\u001b[0m\u001b[0m\n\u001b[0m\u001b[1;32m   5949\u001b[0m \u001b[0;34m\u001b[0m\u001b[0m\n\u001b[1;32m   5950\u001b[0m         \u001b[0;31m# GH6505\u001b[0m\u001b[0;34m\u001b[0m\u001b[0;34m\u001b[0m\u001b[0m\n\u001b[1;32m   5951\u001b[0m         \u001b[0mother_names\u001b[0m \u001b[0;34m=\u001b[0m \u001b[0mset\u001b[0m\u001b[0;34m(\u001b[0m\u001b[0;34m)\u001b[0m\u001b[0;34m\u001b[0m\u001b[0;34m\u001b[0m\u001b[0m\n",
      "\u001b[0;32m/opt/miniconda3/lib/python3.12/site-packages/xarray/core/dataset.py\u001b[0m in \u001b[0;36m?\u001b[0;34m(self, names, virtual_okay)\u001b[0m\n\u001b[1;32m   5808\u001b[0m         \u001b[0;32mif\u001b[0m \u001b[0mvirtual_okay\u001b[0m\u001b[0;34m:\u001b[0m\u001b[0;34m\u001b[0m\u001b[0;34m\u001b[0m\u001b[0m\n\u001b[1;32m   5809\u001b[0m             \u001b[0mbad_names\u001b[0m \u001b[0;34m-=\u001b[0m \u001b[0mself\u001b[0m\u001b[0;34m.\u001b[0m\u001b[0mvirtual_variables\u001b[0m\u001b[0;34m\u001b[0m\u001b[0;34m\u001b[0m\u001b[0m\n\u001b[1;32m   5810\u001b[0m         \u001b[0;32mif\u001b[0m \u001b[0mbad_names\u001b[0m\u001b[0;34m:\u001b[0m\u001b[0;34m\u001b[0m\u001b[0;34m\u001b[0m\u001b[0m\n\u001b[1;32m   5811\u001b[0m             \u001b[0mordered_bad_names\u001b[0m \u001b[0;34m=\u001b[0m \u001b[0;34m[\u001b[0m\u001b[0mname\u001b[0m \u001b[0;32mfor\u001b[0m \u001b[0mname\u001b[0m \u001b[0;32min\u001b[0m \u001b[0mnames\u001b[0m \u001b[0;32mif\u001b[0m \u001b[0mname\u001b[0m \u001b[0;32min\u001b[0m \u001b[0mbad_names\u001b[0m\u001b[0;34m]\u001b[0m\u001b[0;34m\u001b[0m\u001b[0;34m\u001b[0m\u001b[0m\n\u001b[0;32m-> 5812\u001b[0;31m             raise ValueError(\n\u001b[0m\u001b[1;32m   5813\u001b[0m                 \u001b[0;34mf\"\u001b[0m\u001b[0;34mThese variables cannot be found in this dataset: \u001b[0m\u001b[0;34m{\u001b[0m\u001b[0mordered_bad_names\u001b[0m\u001b[0;34m}\u001b[0m\u001b[0;34m\"\u001b[0m\u001b[0;34m\u001b[0m\u001b[0;34m\u001b[0m\u001b[0m\n\u001b[1;32m   5814\u001b[0m             \u001b[0;34m)\u001b[0m\u001b[0;34m\u001b[0m\u001b[0;34m\u001b[0m\u001b[0m\n",
      "\u001b[0;31mValueError\u001b[0m: These variables cannot be found in this dataset: ['huc08_areasqkm', 'climdiv_cd_new', 'climdiv_state_fips', 'lat_2', 'climdiv_fips', 'lat_2_bnds', 'climdiv_state_2digit', 'climdiv_cd_2digit']"
     ]
    }
   ],
   "source": [
    "filename = \"LOCA2_MASKS.nc\"\n",
    "\n",
    "xf = xr.open_dataset(filename_or_obj = filename)\n",
    "\n",
    "display(xf)\n",
    "xf = xf.drop_vars([\"lat_2_bnds\",\n",
    "                   \"lat_2\",\n",
    "                   \"huc08_areasqkm\",\n",
    "                   \"climdiv_fips\",\n",
    "                  \"climdiv_cd_new\",\n",
    "                   \"climdiv_state_fips\",\n",
    "                  \"climdiv_state_2digit\",\n",
    "                  \"climdiv_cd_2digit\",\n",
    "                  \"huc08\",\"climdiv\"])\n",
    "\n",
    "xf[\"LOCA2_HUC08\"]      = xf[\"LOCA2_HUC08\"     ].swap_dims({\"lat_2\": \"lat\"})\n",
    "xf[\"LOCA2_CLIMDIV\"]    = xf[\"LOCA2_CLIMDIV\"   ].swap_dims({\"lat_2\": \"lat\"})\n",
    "xf[\"LOCA2_MASK\"]       = xf[\"LOCA2_MASK\"      ].swap_dims({\"lat_2\": \"lat\"})\n",
    "xf[\"surface_altitude\"] = xf[\"surface_altitude\"].swap_dims({\"lat_2\": \"lat\"})\n",
    "del(xf.attrs[\"CDI\"])\n",
    "del(xf.attrs[\"Source_Software\"])\n",
    "del(xf.attrs[\"CDO\"])\n",
    "del(xf.attrs[\"history\"])\n",
    "\n",
    "\n",
    "xf"
   ]
  },
  {
   "cell_type": "code",
   "execution_count": null,
   "id": "df4d3aa5-f54c-4e30-ab83-028f601c54dd",
   "metadata": {},
   "outputs": [],
   "source": [
    "huc_table = pd.read_csv(filepath_or_buffer = \"./USGS_HUC08_LUT.csv\", index_col=\"huc08\").to_xarray()\n",
    "huc_table = huc_table.rename_vars({\"area_espg4269_m2\":\"huc08_area_espg4269_m2\"})\n",
    "\n",
    "huc_table = huc_table.sort_values(\"huc08\")\n",
    "\n",
    "huc_table[\"huc08\"].attrs[\"description\"] = \"USGS Hydrologic Unit Level 8 Codes\"\n",
    "huc_table[\"huc06\"].attrs[\"description\"] = \"USGS Hydrologic Unit Level 6 Codes\"\n",
    "huc_table[\"huc04\"].attrs[\"description\"] = \"USGS Hydrologic Unit Level 4 Codes\"\n",
    "huc_table[\"huc02\"].attrs[\"description\"] = \"USGS Hydrologic Unit Level 2 Codes\"\n",
    "\n",
    "huc_table[\"huc08\"].attrs[\"long_name\"] = huc_table[\"huc08\"].attrs[\"description\"]\n",
    "huc_table[\"huc06\"].attrs[\"long_name\"] = huc_table[\"huc06\"].attrs[\"description\"]\n",
    "huc_table[\"huc04\"].attrs[\"long_name\"] = huc_table[\"huc04\"].attrs[\"description\"]\n",
    "huc_table[\"huc02\"].attrs[\"long_name\"] = huc_table[\"huc02\"].attrs[\"description\"]\n",
    "\n",
    "huc_table[\"huc08_name\"].attrs[\"description\"] = \"USGS Hydrologic Unit Level 8 Basin Name\"\n",
    "huc_table[\"huc08_name\"].attrs[\"long_name\"  ] = \"USGS Hydrologic Unit Level 8 Basin Name\"\n",
    "\n",
    "huc_table[\"huc08_state\"].attrs[\"description\"] = \"USGS Hydrologic Unit Level 8 Basin States\"\n",
    "huc_table[\"huc08_state\"].attrs[\"long_name\"  ] = \"USGS Hydrologic Unit Level 8 Basin States\"\n",
    "\n",
    "huc_table[\"huc06_name\"].attrs[\"description\"] = \"USGS Hydrologic Unit Level 6 Basin Name\"\n",
    "huc_table[\"huc06_name\"].attrs[\"long_name\"  ] = \"USGS Hydrologic Unit Level 6 Basin Name\"\n",
    "\n",
    "huc_table[\"huc04_name\"].attrs[\"description\"] = \"USGS Hydrologic Unit Level 4 Basin Name\"\n",
    "huc_table[\"huc04_name\"].attrs[\"long_name\"  ] = \"USGS Hydrologic Unit Level 4 Basin Name\"\n",
    "\n",
    "huc_table[\"huc02_name\"].attrs[\"description\"] = \"USGS Hydrologic Unit Level 2 Basin Name\"\n",
    "huc_table[\"huc02_name\"].attrs[\"long_name\"  ] = \"USGS Hydrologic Unit Level 2 Basin Name\"\n",
    "\n",
    "\n",
    "\n",
    "huc_table[\"huc08_area_espg4269_m2\"].attrs[\"units\"      ] = \"m2\"\n",
    "huc_table[\"huc08_area_espg4269_m2\"].attrs[\"description\"] = \"USGS Hydrologic Unit Level 8 Basin Area\"\n",
    "huc_table[\"huc08_area_espg4269_m2\"].attrs[\"long_name\"  ] = \"USGS Hydrologic Unit Level 8 Basin Area\"\n",
    "\n",
    "display(huc_table)"
   ]
  },
  {
   "cell_type": "code",
   "execution_count": null,
   "id": "23b4b6e3-cc03-4c85-b706-89f26e1d8b0b",
   "metadata": {},
   "outputs": [],
   "source": [
    "cd_table = pd.read_csv(filepath_or_buffer = \"./NCEI_nClimDiv_LUT.csv\", index_col=\"climdiv\").to_xarray()\n",
    "cd_table = cd_table.rename_vars({\"area_espg4269_m2\":\"climdiv_area_espg4269_m2\"})\n",
    "\n",
    "cd_table = cd_table.sort_values(\"climdiv\")\n",
    "\n",
    "\n",
    "cd_table[\"climdiv\"].attrs[\"description\"] = \"NCEI Climate Division Code\"\n",
    "cd_table[\"climdiv\"].attrs[\"long_name\"]   = \"NCEI Climate Division Code\"\n",
    "\n",
    "cd_table[\"climdiv_name\"].attrs[\"description\"] = \"NCEI Climate Division Name\"\n",
    "cd_table[\"climdiv_name\"].attrs[\"long_name\"]   = \"NCEI Climate Division Name\"\n",
    "\n",
    "cd_table[\"climdiv_st_name\"].attrs[\"description\"] = \"NCEI Climate Division State Name\"\n",
    "cd_table[\"climdiv_st_name\"].attrs[\"long_name\"]   = \"NCEI Climate Division State Name\"\n",
    "\n",
    "cd_table[\"climdiv_st_abrv\"].attrs[\"description\"] = \"NCEI Climate Division State Abbreviation\"\n",
    "cd_table[\"climdiv_st_abrv\"].attrs[\"long_name\"]   = \"NCEI Climate Division State Abbreviation\"\n",
    "\n",
    "cd_table[\"state_fips\"].attrs[\"description\"] = \"US State FIPS Code\"\n",
    "cd_table[\"state_fips\"].attrs[\"long_name\"]   = \"US State FIPS Code\"\n",
    "\n",
    "cd_table[\"fips_cd\"].attrs[\"description\"] = \"NCEI Climate Division FIPS Code\"\n",
    "cd_table[\"fips_cd\"].attrs[\"long_name\"]   = \"NCEI Climate Division FIPS Code\"\n",
    "\n",
    "cd_table[\"cdnew\"].attrs[\"description\"] = \"NCEI Climate Division In-State 2-Digit Code\"\n",
    "cd_table[\"cdnew\"].attrs[\"long_name\"]   = \"NCEI Climate Division In-State 2-Digit Code\"\n",
    "\n",
    "\n",
    "cd_table[\"climdiv_state_code\"].attrs[\"description\"] = \"NCEI Climate Division State Code\"\n",
    "cd_table[\"climdiv_state_code\"].attrs[\"long_name\"]   = \"NCEI Climate Division State Code\"\n",
    "\n",
    "cd_table[\"climdiv_state_code\"].attrs[\"description\"] = \"NCEI Climate Division State Code\"\n",
    "cd_table[\"climdiv_state_code\"].attrs[\"long_name\"]   = \"NCEI Climate Division State Code\"\n",
    "\n",
    "cd_table[\"climdiv_area_espg4269_m2\"].attrs[\"units\"      ] = \"m2\"\n",
    "cd_table[\"climdiv_area_espg4269_m2\"].attrs[\"description\"] = \"NCEI Climate Division Area\"\n",
    "cd_table[\"climdiv_area_espg4269_m2\"].attrs[\"long_name\"  ] = \"NCEI Climate Division Area\"\n",
    "\n",
    "display(cd_table)"
   ]
  },
  {
   "cell_type": "code",
   "execution_count": null,
   "id": "0334a767-57c2-43a0-a542-c82e405f92c6",
   "metadata": {
    "scrolled": true
   },
   "outputs": [],
   "source": [
    "xr2 = xr.merge([xf, cd_table, huc_table])\n",
    "xr2.to_netcdf(path = \"a\"+filename, format=\"NETCDF4\")\n",
    "xr2"
   ]
  },
  {
   "cell_type": "code",
   "execution_count": null,
   "id": "f3936041-7cf9-461d-866e-35c5065aba52",
   "metadata": {},
   "outputs": [],
   "source": []
  },
  {
   "cell_type": "code",
   "execution_count": null,
   "id": "6b268066-af69-492f-a624-841b6140c860",
   "metadata": {},
   "outputs": [],
   "source": []
  },
  {
   "cell_type": "code",
   "execution_count": null,
   "id": "f24bb3d7-34dc-4f28-a05b-61058cf8c075",
   "metadata": {},
   "outputs": [],
   "source": [
    "xm = xr.open_dataset(\"LOCA2_MASKS.nc\")\n",
    "xw = xr.open_dataset(\"LOCA2_AWC2.nc\")\n",
    "\n",
    "display(xm)\n",
    "display(xw)"
   ]
  },
  {
   "cell_type": "code",
   "execution_count": null,
   "id": "e3abacb1-06df-4f12-bbde-40f99c6f31aa",
   "metadata": {},
   "outputs": [],
   "source": [
    "\n",
    "\n",
    "xm[\"AWC_Grid\"].values = xw[\"LOCA2_AWC\"].values"
   ]
  },
  {
   "cell_type": "code",
   "execution_count": null,
   "id": "1842908f-d6df-4108-a12d-ad57a24a6168",
   "metadata": {},
   "outputs": [],
   "source": [
    "xm.to_netcdf(path = \"LOCA2_MASKS1.nc\", format=\"NETCDF4\")\n"
   ]
  },
  {
   "cell_type": "code",
   "execution_count": null,
   "id": "5855b22d-1aed-4981-a623-b4642011bf20",
   "metadata": {},
   "outputs": [],
   "source": []
  }
 ],
 "metadata": {
  "kernelspec": {
   "display_name": "Python 3 (ipykernel)",
   "language": "python",
   "name": "python3"
  },
  "language_info": {
   "codemirror_mode": {
    "name": "ipython",
    "version": 3
   },
   "file_extension": ".py",
   "mimetype": "text/x-python",
   "name": "python",
   "nbconvert_exporter": "python",
   "pygments_lexer": "ipython3",
   "version": "3.12.3"
  }
 },
 "nbformat": 4,
 "nbformat_minor": 5
}
